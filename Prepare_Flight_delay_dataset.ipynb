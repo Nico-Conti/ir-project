{
 "cells": [
  {
   "cell_type": "code",
   "execution_count": null,
   "id": "21f931a7-3735-43ff-a57a-f702cc926c57",
   "metadata": {},
   "outputs": [
    {
     "name": "stderr",
     "output_type": "stream",
     "text": [
      "/tmp/ipykernel_512321/1530296933.py:22: FutureWarning: Setting an item of incompatible dtype is deprecated and will raise in a future error of pandas. Value '['c-1' 'c-1' 'c-1' ... 'c-12' 'c-12' 'c-12']' has dtype incompatible with int64, please explicitly cast to a compatible dtype first.\n",
      "  df_train.loc[:, col] = \"c-\" + df_train[col].astype(str)\n",
      "/tmp/ipykernel_512321/1530296933.py:23: FutureWarning: Setting an item of incompatible dtype is deprecated and will raise in a future error of pandas. Value '['c-1' 'c-1' 'c-1' ... 'c-12' 'c-12' 'c-12']' has dtype incompatible with int64, please explicitly cast to a compatible dtype first.\n",
      "  df_test.loc[:, col] = \"c-\" + df_test[col].astype(str)  # ✅ Fix: Use .loc\n",
      "/tmp/ipykernel_512321/1530296933.py:22: FutureWarning: Setting an item of incompatible dtype is deprecated and will raise in a future error of pandas. Value '['c-28' 'c-29' 'c-30' ... 'c-29' 'c-29' 'c-29']' has dtype incompatible with int64, please explicitly cast to a compatible dtype first.\n",
      "  df_train.loc[:, col] = \"c-\" + df_train[col].astype(str)\n",
      "/tmp/ipykernel_512321/1530296933.py:23: FutureWarning: Setting an item of incompatible dtype is deprecated and will raise in a future error of pandas. Value '['c-1' 'c-1' 'c-1' ... 'c-15' 'c-15' 'c-15']' has dtype incompatible with int64, please explicitly cast to a compatible dtype first.\n",
      "  df_test.loc[:, col] = \"c-\" + df_test[col].astype(str)  # ✅ Fix: Use .loc\n",
      "/tmp/ipykernel_512321/1530296933.py:22: FutureWarning: Setting an item of incompatible dtype is deprecated and will raise in a future error of pandas. Value '['c-5' 'c-6' 'c-7' ... 'c-5' 'c-5' 'c-5']' has dtype incompatible with int64, please explicitly cast to a compatible dtype first.\n",
      "  df_train.loc[:, col] = \"c-\" + df_train[col].astype(str)\n",
      "/tmp/ipykernel_512321/1530296933.py:23: FutureWarning: Setting an item of incompatible dtype is deprecated and will raise in a future error of pandas. Value '['c-1' 'c-1' 'c-1' ... 'c-6' 'c-6' 'c-6']' has dtype incompatible with int64, please explicitly cast to a compatible dtype first.\n",
      "  df_test.loc[:, col] = \"c-\" + df_test[col].astype(str)  # ✅ Fix: Use .loc\n"
     ]
    }
   ],
   "source": [
    "import pandas as pd\n",
    "import numpy as np\n",
    "\n",
    "# Set file paths\n",
    "train_output = \"flight_delay_train.csv\"\n",
    "test_output = \"flight_delay_test.csv\"\n",
    "\n",
    "# Load data\n",
    "df_2005 = pd.read_csv(\"2005.csv\")\n",
    "df_2006 = pd.read_csv(\"2006.csv\")\n",
    "df_2007 = pd.read_csv(\"2007.csv\")\n",
    "\n",
    "# Combine 2005 and 2006 data\n",
    "df_train = pd.concat([df_2005, df_2006], axis=0)\n",
    "\n",
    "# Remove rows with missing DepDelay\n",
    "df_train = df_train.dropna(subset=[\"DepDelay\"])\n",
    "df_test = df_2007.dropna(subset=[\"DepDelay\"]).copy()  # ✅ Fix: Use .copy()\n",
    "\n",
    "# Convert categorical columns by prefixing \"c-\"\n",
    "for col in [\"Month\", \"DayofMonth\", \"DayOfWeek\"]:\n",
    "    df_train.loc[:, col] = \"c-\" + df_train[col].astype(str)\n",
    "    df_test.loc[:, col] = \"c-\" + df_test[col].astype(str)  # ✅ Fix: Use .loc\n",
    "\n",
    "# Create binary target column\n",
    "df_train[\"dep_delayed_15min\"] = np.where(df_train[\"DepDelay\"] >= 15, \"Y\", \"N\")\n",
    "df_test[\"dep_delayed_15min\"] = np.where(df_test[\"DepDelay\"] >= 15, \"Y\", \"N\")\n",
    "\n",
    "# Select relevant columns\n",
    "cols = [\"Month\", \"DayofMonth\", \"DayOfWeek\", \"DepTime\", \"UniqueCarrier\", \n",
    "        \"Origin\", \"Dest\", \"Distance\", \"dep_delayed_15min\"]\n",
    "df_train = df_train[cols]\n",
    "df_test = df_test[cols]\n",
    "\n",
    "# Sample 10 million rows for training (if dataset is large enough)\n",
    "df_train_sampled = df_train.sample(n=min(10_000_000, len(df_train)), random_state=123)\n",
    "\n",
    "# Sample 100,000 rows for testing\n",
    "df_test_sampled = df_test.sample(n=min(100_000, len(df_test)), random_state=123)\n",
    "\n",
    "# Save to CSV\n",
    "df_train_sampled.to_csv(train_output, index=False)\n",
    "df_test_sampled.to_csv(test_output, index=False)\n",
    "\n",
    "print(f\"Preprocessing complete. Files saved as {train_output} and {test_output}\")\n"
   ]
  },
  {
   "cell_type": "code",
   "execution_count": null,
   "id": "cf705ae9-5fa2-4c8c-b5ad-3e878d38da14",
   "metadata": {},
   "outputs": [],
   "source": []
  }
 ],
 "metadata": {
  "kernelspec": {
   "display_name": "Python (IR Project SSH v.0.2)",
   "language": "python",
   "name": "venv"
  },
  "language_info": {
   "codemirror_mode": {
    "name": "ipython",
    "version": 3
   },
   "file_extension": ".py",
   "mimetype": "text/x-python",
   "name": "python",
   "nbconvert_exporter": "python",
   "pygments_lexer": "ipython3",
   "version": "3.12.3"
  }
 },
 "nbformat": 4,
 "nbformat_minor": 5
}
